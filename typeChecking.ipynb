{
 "cells": [
  {
   "cell_type": "code",
   "execution_count": 2,
   "metadata": {},
   "outputs": [
    {
     "name": "stdout",
     "output_type": "stream",
     "text": [
      "private\n"
     ]
    }
   ],
   "source": [
    "from typing import List, Tuple, Dict\n",
    "import pandas as pd\n",
    "\n",
    "'https://www.index.dev/blog/how-to-check-python-variable-types'\n",
    "'https://www.w3schools.com/python/python_datatypes.asp'\n",
    "'https://docs.python.org/3/tutorial/classes.html'\n",
    "\n",
    "# impossible to have a class inside the class and have it called inside the outer class\n",
    "class DataConstructor:\n",
    "        def __init__(self, file: str):\n",
    "            self.file = file\n",
    "\n",
    "        @staticmethod\n",
    "        def createDataframe(file: str):\n",
    "            return \"done\"\n",
    "\n",
    "class DataObject:\n",
    "    \n",
    "    data:str = \"public\"\n",
    "\n",
    "    _data: str = \"private\"\n",
    "\n",
    "    def __init__(self):\n",
    "        self.data: str = \"data\"\n",
    "\n",
    "    # private method \n",
    "    def __createSomething(self) -> Dict[str, List[int]]:\n",
    "        return {}\n",
    "    \n",
    "    def readFile(self, file: str) -> pd.DataFrame:\n",
    "        return DataConstructor.createDataframe(file)\n",
    "    \n",
    "    # public method\n",
    "    def readData(self, dataFile: str) -> None:\n",
    "        self.data: str = dataFile\n",
    "        return \"hello\"\n",
    "    \n",
    "\n",
    "class SpecificDataObject(DataObject):\n",
    "    specialData: int = 100\n",
    "\n",
    "\n",
    "object = DataObject()\n",
    "# No objections when you break the type checking\n",
    "object.readData(\"file\")\n",
    "object.readFile(\"file\")\n",
    "# No objections to breaking \"private\" members and functions\n",
    "print(object._data)"
   ]
  },
  {
   "cell_type": "markdown",
   "metadata": {},
   "source": [
    "Research Ideas"
   ]
  }
 ],
 "metadata": {
  "kernelspec": {
   "display_name": "base",
   "language": "python",
   "name": "python3"
  },
  "language_info": {
   "codemirror_mode": {
    "name": "ipython",
    "version": 3
   },
   "file_extension": ".py",
   "mimetype": "text/x-python",
   "name": "python",
   "nbconvert_exporter": "python",
   "pygments_lexer": "ipython3",
   "version": "3.8.8"
  }
 },
 "nbformat": 4,
 "nbformat_minor": 2
}
